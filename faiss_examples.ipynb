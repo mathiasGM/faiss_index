{
 "cells": [
  {
   "cell_type": "code",
   "execution_count": 1,
   "metadata": {},
   "outputs": [],
   "source": [
    "import faiss, uuid\n",
    "import numpy as np"
   ]
  },
  {
   "cell_type": "markdown",
   "metadata": {},
   "source": [
    "## Faiss examples\n",
    "A couple of handy examples of how Faiss can be used to store and search for vectors. \n",
    "\n",
    "For Faceboook Research documentation, see: https://github.com/facebookresearch/faiss\n",
    "\n",
    "By MGM"
   ]
  },
  {
   "cell_type": "markdown",
   "metadata": {},
   "source": [
    "### Example 1: Small set of vectors"
   ]
  },
  {
   "cell_type": "code",
   "execution_count": 7,
   "metadata": {},
   "outputs": [],
   "source": [
    "dimension = 3\n",
    "\n",
    "v_1 = np.array([[1,2,3]]).astype('float32')\n",
    "v_2 = np.array([[4,5,6]]).astype('float32')\n",
    "v_3 = np.array([[7,8,9]]).astype('float32')\n",
    "\n",
    "vectors = [v_1, v_2, v_3]"
   ]
  },
  {
   "cell_type": "markdown",
   "metadata": {},
   "source": [
    "#### Construct Faiss index "
   ]
  },
  {
   "cell_type": "code",
   "execution_count": 6,
   "metadata": {},
   "outputs": [],
   "source": [
    "# In this example I use the IndexIDMAP2 in order to be able to map a vector to an (interger) Id. \n",
    "index = faiss.IndexIDMap2(faiss.IndexFlat(dimension))\n",
    "# If you are fine with the Id number being the insertion number, using a flat index will give you better performance but comes with the l"
   ]
  },
  {
   "cell_type": "markdown",
   "metadata": {},
   "source": [
    "#### Insert vectors into Faiss"
   ]
  },
  {
   "cell_type": "code",
   "execution_count": 8,
   "metadata": {},
   "outputs": [],
   "source": [
    "index.add_with_ids(v_1, np.array([10]))\n",
    "index.add_with_ids(v_2, np.array([20]))\n",
    "index.add_with_ids(v_3, np.array([30]))"
   ]
  },
  {
   "cell_type": "code",
   "execution_count": 11,
   "metadata": {},
   "outputs": [
    {
     "name": "stdout",
     "output_type": "stream",
     "text": [
      "Total number of vectors in Faiss index\n",
      "3\n"
     ]
    }
   ],
   "source": [
    "print(\"Total number of vectors in Faiss index\")\n",
    "print(index.ntotal)"
   ]
  },
  {
   "cell_type": "markdown",
   "metadata": {},
   "source": [
    "#### Reconstructing a vector based on id"
   ]
  },
  {
   "cell_type": "code",
   "execution_count": 14,
   "metadata": {},
   "outputs": [
    {
     "name": "stdout",
     "output_type": "stream",
     "text": [
      "Reconstructed vector\n",
      "[7. 8. 9.]\n"
     ]
    }
   ],
   "source": [
    "print(\"Reconstructed vector\")\n",
    "v_test = index.reconstruct(30)\n",
    "print(v_test)"
   ]
  },
  {
   "cell_type": "markdown",
   "metadata": {},
   "source": [
    "#### Search in vector space\n",
    "query_vector: v_1,\n",
    "amount: 3"
   ]
  },
  {
   "cell_type": "code",
   "execution_count": 18,
   "metadata": {},
   "outputs": [
    {
     "name": "stdout",
     "output_type": "stream",
     "text": [
      "Distances\n",
      "[  0.  27. 108.]\n",
      "\n",
      "Indexes\n",
      "[10 20 30]\n"
     ]
    }
   ],
   "source": [
    "D, I = index.search(v_1, 3)\n",
    "print(\"Distances\")\n",
    "print(D[0])\n",
    "print()\n",
    "print(\"Indexes\")\n",
    "print(I[0])"
   ]
  },
  {
   "cell_type": "markdown",
   "metadata": {},
   "source": [
    "#### Changing a vector in the index"
   ]
  },
  {
   "cell_type": "code",
   "execution_count": 20,
   "metadata": {},
   "outputs": [],
   "source": [
    "# We want to change the vector with Id: 30 in the index to:\n",
    "v_new = np.array([[70,80,90]]).astype('float32')"
   ]
  },
  {
   "cell_type": "code",
   "execution_count": 21,
   "metadata": {},
   "outputs": [
    {
     "name": "stdout",
     "output_type": "stream",
     "text": [
      "ntotal after deleting vector\n",
      "2\n",
      "\n",
      "ntotal after adding the new vector\n",
      "3\n",
      "\n"
     ]
    }
   ],
   "source": [
    "# Step 1) Check if the vector exists in the index\n",
    "try: \n",
    "    v_test = index.reconstruct(30)\n",
    "\n",
    "    # Step 2) Delete vector with Id: 30\n",
    "    index.remove_ids(np.array([30]))\n",
    "    \n",
    "    # We can check that the vector has been removed\n",
    "    print(\"ntotal after deleting vector\")\n",
    "    print(index.ntotal)\n",
    "    print()\n",
    "\n",
    "    # Step 3) Add new vector and assign to the same Id: 30\n",
    "    index.add_with_ids(v_new, np.array([30]))\n",
    "\n",
    "# RuntimeError is thrown if the vector does not exist in the index\n",
    "except RuntimeError:\n",
    "    print(\"Vector with Id: \" + str(30) + \" does not exist\")\n",
    "    pass\n",
    "\n",
    "# We can check that the vector has been removed\n",
    "print(\"ntotal after adding the new vector\")\n",
    "print(index.ntotal)\n",
    "print()    "
   ]
  },
  {
   "cell_type": "code",
   "execution_count": 23,
   "metadata": {},
   "outputs": [
    {
     "name": "stdout",
     "output_type": "stream",
     "text": [
      "Search after changing vector\n",
      "Distances\n",
      "[[    0.    27. 18414.]]\n",
      "\n",
      "Indexes\n",
      "[[10 20 30]]\n"
     ]
    }
   ],
   "source": [
    "# We can search again, and vector with Id: 30 should now be significant farther away\n",
    "print(\"Search after changing vector\")\n",
    "D, I = index.search(v_1, 3)\n",
    "print(\"Distances\")\n",
    "print(D)\n",
    "print()\n",
    "print(\"Indexes\")\n",
    "print(I)"
   ]
  },
  {
   "cell_type": "markdown",
   "metadata": {},
   "source": [
    "#### Search in index based on an average representation"
   ]
  },
  {
   "cell_type": "code",
   "execution_count": 24,
   "metadata": {},
   "outputs": [
    {
     "name": "stdout",
     "output_type": "stream",
     "text": [
      "Searching with average input vector representation\n",
      "Distances\n",
      "[3928.5 4603.5 4603.5]\n",
      "\n",
      "Indexes\n",
      "[20 30 10]\n"
     ]
    }
   ],
   "source": [
    "# To search in the index based on an averaged representation of two or more vectors (embeddings): \n",
    "\n",
    "to_reconstruct_ids = [10,30] # In this example we want to get a representation based on vector_with_id 10 and 30.\n",
    "reconstructed_vectors = []\n",
    "\n",
    "# Reconstruct the vectors\n",
    "for vector_id in to_reconstruct_ids:\n",
    "    reconstructed_vectors.append(index.reconstruct(vector_id))\n",
    "\n",
    "average_input_vector = np.array([np.average(reconstructed_vectors, axis=0)])\n",
    "\n",
    "print(\"Searching with average input vector representation\")\n",
    "D, I = index.search(average_input_vector, 3)\n",
    "print(\"Distances\")\n",
    "print(D[0])\n",
    "print()\n",
    "print(\"Indexes\")\n",
    "print(I[0])"
   ]
  },
  {
   "cell_type": "markdown",
   "metadata": {},
   "source": [
    "#### Saving the index"
   ]
  },
  {
   "cell_type": "code",
   "execution_count": null,
   "metadata": {},
   "outputs": [],
   "source": [
    "# faiss.write_index(index, \"./index\")"
   ]
  }
 ],
 "metadata": {
  "kernelspec": {
   "display_name": "Python 3",
   "language": "python",
   "name": "python3"
  },
  "language_info": {
   "codemirror_mode": {
    "name": "ipython",
    "version": 3
   },
   "file_extension": ".py",
   "mimetype": "text/x-python",
   "name": "python",
   "nbconvert_exporter": "python",
   "pygments_lexer": "ipython3",
   "version": "3.8.5"
  }
 },
 "nbformat": 4,
 "nbformat_minor": 4
}
